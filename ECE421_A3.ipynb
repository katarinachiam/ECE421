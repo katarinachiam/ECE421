{
  "nbformat": 4,
  "nbformat_minor": 0,
  "metadata": {
    "colab": {
      "name": "ECE421_A3.ipynb",
      "provenance": [],
      "collapsed_sections": []
    },
    "kernelspec": {
      "name": "python3",
      "display_name": "Python 3"
    },
    "language_info": {
      "name": "python"
    }
  },
  "cells": [
    {
      "cell_type": "markdown",
      "metadata": {
        "id": "rHK3WZZ2LMb2"
      },
      "source": [
        "# Assignment 3: Unsupervised Learning and Probabilistic Models\n",
        "Completed by Katarina Chiam (1004908996)"
      ]
    },
    {
      "cell_type": "code",
      "metadata": {
        "colab": {
          "base_uri": "https://localhost:8080/"
        },
        "id": "wFAY1WZUKzAc",
        "outputId": "bad45a4c-e59c-4105-de5d-ef266bb903dc"
      },
      "source": [
        "#google drive mount to colab statement\n",
        "import os\n",
        "from google.colab import drive\n",
        "\n",
        "drive.mount('/content/drive')\n",
        "root = '/content/drive/My Drive/_Y3/ECE421_W/A3'\n",
        "os.chdir(root)"
      ],
      "execution_count": 1,
      "outputs": [
        {
          "output_type": "stream",
          "text": [
            "Drive already mounted at /content/drive; to attempt to forcibly remount, call drive.mount(\"/content/drive\", force_remount=True).\n"
          ],
          "name": "stdout"
        }
      ]
    },
    {
      "cell_type": "markdown",
      "metadata": {
        "id": "Zvt5LpXOLZ56"
      },
      "source": [
        "helper.py file"
      ]
    },
    {
      "cell_type": "code",
      "metadata": {
        "colab": {
          "base_uri": "https://localhost:8080/"
        },
        "id": "p7PiF_GeLWiI",
        "outputId": "9900157e-dcf6-4dc6-c9bd-06418025dae8"
      },
      "source": [
        "#import tensorflow as tf\n",
        "%tensorflow_version 1.x as tf\n",
        "import tensorflow as tf\n",
        "\n",
        "def reduce_logsumexp(input_tensor, reduction_indices=1, keep_dims=False):\n",
        "  \"\"\"Computes the sum of elements across dimensions of a tensor in log domain.\n",
        "\n",
        "     It uses a similar API to tf.reduce_sum.\n",
        "\n",
        "  Args:\n",
        "    input_tensor: The tensor to reduce. Should have numeric type.\n",
        "    reduction_indices: The dimensions to reduce. \n",
        "    keep_dims: If true, retains reduced dimensions with length 1.\n",
        "  Returns:\n",
        "    The reduced tensor.\n",
        "  \"\"\"\n",
        "  max_input_tensor1 = tf.reduce_max(\n",
        "      input_tensor, reduction_indices, keep_dims=keep_dims)\n",
        "  max_input_tensor2 = max_input_tensor1\n",
        "  if not keep_dims:\n",
        "    max_input_tensor2 = tf.expand_dims(max_input_tensor2, reduction_indices)\n",
        "  return tf.log(\n",
        "      tf.reduce_sum(\n",
        "          tf.exp(input_tensor - max_input_tensor2),\n",
        "          reduction_indices,\n",
        "          keep_dims=keep_dims)) + max_input_tensor1\n",
        "\n",
        "\n",
        "def logsoftmax(input_tensor):\n",
        "  \"\"\"Computes normal softmax nonlinearity in log domain.\n",
        "\n",
        "     It can be used to normalize log probability.\n",
        "     The softmax is always computed along the second dimension of the input Tensor.     \n",
        "\n",
        "  Args:\n",
        "    input_tensor: Unnormalized log probability.\n",
        "  Returns:\n",
        "    normalized log probability.\n",
        "  \"\"\"\n",
        "  return input_tensor - reduce_logsumexp(input_tensor, reduction_indices=0, keep_dims=True)"
      ],
      "execution_count": 2,
      "outputs": [
        {
          "output_type": "stream",
          "text": [
            "`%tensorflow_version` only switches the major version: 1.x or 2.x.\n",
            "You set: `1.x as tf`. This will be interpreted as: `1.x`.\n",
            "\n",
            "\n",
            "TensorFlow 1.x selected.\n"
          ],
          "name": "stdout"
        }
      ]
    },
    {
      "cell_type": "markdown",
      "metadata": {
        "id": "LNAHeNy8LgN_"
      },
      "source": [
        "starter_kmeans.py file\n",
        "\n",
        "Part 1: K-means"
      ]
    },
    {
      "cell_type": "code",
      "metadata": {
        "id": "Yevv50z9LiLh"
      },
      "source": [
        "#import tensorflow as tf\n",
        "import numpy as np\n",
        "import matplotlib.pyplot as plt\n",
        "import helper as hlp\n",
        "\n",
        "def load_data(is_valid = True, Dnum = 2): #Dnum depends on either using data2D or data100D\n",
        "  # Loading data\n",
        "  if Dnum == 2:\n",
        "    file_name = 'data2D.npy'\n",
        "  else: #Dnum == 100:\n",
        "    file_name = 'data100D.npy'\n",
        "  data = np.load(file_name)\n",
        "  #data = np.load('data2D.npy')\n",
        "  #data = np.load('data100D.npy')\n",
        "  [num_pts, dim] = np.shape(data)\n",
        "\n",
        "  # For Validation set\n",
        "  if is_valid:\n",
        "    valid_batch = int(num_pts / 3.0)\n",
        "    np.random.seed(45689)\n",
        "    rnd_idx = np.arange(num_pts)\n",
        "    np.random.shuffle(rnd_idx)\n",
        "    val_data = data[rnd_idx[:valid_batch]]\n",
        "    data = data[rnd_idx[valid_batch:]]\n",
        "    return data, val_data\n",
        "  else:\n",
        "    return data\n",
        "\n",
        "# Distance function for K-means\n",
        "def distanceFunc(X, MU):\n",
        "    # Inputs\n",
        "    # X: is an NxD matrix (N observations and D dimensions)\n",
        "    # MU: is an KxD matrix (K means and D dimensions)\n",
        "    # Outputs\n",
        "    # pair_dist: is the squared pairwise distance matrix (NxK)\n",
        "    # TODO\n",
        "    X_e = tf.expand_dims(X, axis = 1)\n",
        "    MU_e = tf.expand_dims(MU, axis = 0)\n",
        "    X_MU = tf.subtract(X_e, MU_e) #X_e - MU_e\n",
        "    pair_dist = tf.reduce_sum(tf.square(X_MU), axis = 2)\n",
        "    return pair_dist\n"
      ],
      "execution_count": 3,
      "outputs": []
    },
    {
      "cell_type": "markdown",
      "metadata": {
        "id": "mycBkLAVMfZP"
      },
      "source": [
        "K-means model training algorithm"
      ]
    },
    {
      "cell_type": "code",
      "metadata": {
        "id": "zJXNDQqOu899"
      },
      "source": [
        "#define loss function\n",
        "def tf_loss(X, MU):\n",
        "  pair_dist = distanceFunc(X, MU)\n",
        "  reduced = tf.reduce_min(pair_dist, axis = 1)\n",
        "  err = tf.reduce_sum(reduced)\n",
        "  return err\n",
        "\n",
        "#define function to compute data belonging to some cluster\n",
        "def best_cluster(X, MU, K):\n",
        "  N = X.shape[0]\n",
        "  pair_dist = tf.Session().run(distanceFunc(X, MU))\n",
        "  cluster = np.argmin(pair_dist, axis = 1)\n",
        "  B = [] #holds the cluster information\n",
        "  per = [] #holds the percentage of training points belonging to each cluster\n",
        "  for k in range(K):\n",
        "    B.append(X[cluster == k])\n",
        "    per.append(len(B[k])/N)\n",
        "  return B, per"
      ],
      "execution_count": 14,
      "outputs": []
    },
    {
      "cell_type": "code",
      "metadata": {
        "id": "7r92DCqjMhVA"
      },
      "source": [
        "#insert training here\n",
        "def Kmeans_setup(K, D):\n",
        "  X = tf.placeholder(tf.float64, shape = (None, D)) #X is NxD, variable for input data\n",
        "  \n",
        "  MU = tf.Variable(tf.truncated_normal(shape=(K, D), mean = 0.0, stddev = 1.0, dtype = tf.float64, seed = 421)) #initialize means as a standard normal distribution, means is KxD matrix\n",
        "\n",
        "  loss = tf_loss(X, MU)\n",
        "\n",
        "  optimizer = tf.train.AdamOptimizer(learning_rate = 0.1, beta1 = 0.9, beta2 = 0.99, epsilon = 1e-5).minimize(loss)\n",
        "  return X, MU, loss, optimizer"
      ],
      "execution_count": 5,
      "outputs": []
    },
    {
      "cell_type": "code",
      "metadata": {
        "id": "zIG8Pabrwlw-"
      },
      "source": [
        "def Kmeans_model(K, epochs = 50, is_valid = False, Dnum = 2): #K is the number of classes\n",
        "  trainData = load_data(is_valid, Dnum)\n",
        "  trainLoss = []\n",
        "  N = trainData.shape[0]\n",
        "  D = trainData.shape[1]\n",
        "  X, MU, loss, optimizer = Kmeans_setup(K, D)\n",
        "\n",
        "  with tf.Session() as sess:\n",
        "    init_op = tf.global_variables_initializer()\n",
        "    sess.run(init_op)\n",
        "    for ep in range(epochs):\n",
        "      if ep % 25 == 0:\n",
        "        print(\"epoch\", ep)\n",
        "      tr_loss, _ = sess.run([loss, optimizer], feed_dict={X:trainData})\n",
        "      trainLoss.append(tr_loss/N)\n",
        "    MU_star = MU.eval()\n",
        "  \n",
        "  cluster_data, percentages = best_cluster(trainData, MU_star, K)\n",
        "  tf_plot(trainLoss, MU_star, cluster_data, percentages, K)"
      ],
      "execution_count": 16,
      "outputs": []
    },
    {
      "cell_type": "code",
      "metadata": {
        "colab": {
          "base_uri": "https://localhost:8080/",
          "height": 641
        },
        "id": "C752W1PuTsRm",
        "outputId": "008d0c53-0e12-4ff0-a5dc-fbc91c4ac729"
      },
      "source": [
        "Kmeans_model(3)"
      ],
      "execution_count": 17,
      "outputs": [
        {
          "output_type": "stream",
          "text": [
            "epoch 0\n",
            "epoch 25\n",
            "\n",
            "\n"
          ],
          "name": "stdout"
        },
        {
          "output_type": "display_data",
          "data": {
            "image/png": "[encoded data removed]",
            "text/plain": [
              "<Figure size 432x288 with 1 Axes>"
            ]
          },
          "metadata": {
            "tags": [],
            "needs_background": "light"
          }
        },
        {
          "output_type": "display_data",
          "data": {
            "image/png": "[encoded data removed]",
            "text/plain": [
              "<Figure size 432x288 with 1 Axes>"
            ]
          },
          "metadata": {
            "tags": [],
            "needs_background": "light"
          }
        }
      ]
    },
    {
      "cell_type": "code",
      "metadata": {
        "id": "XrdRtYeH35GO"
      },
      "source": [
        "def tf_plot(trainLoss, MU_star, cluster_data, percentages, K):\n",
        "  plt.figure(1)\n",
        "  plot1, = plt.plot(trainLoss)\n",
        "  plt.xlabel('Epochs')\n",
        "  plt.ylabel('Loss')\n",
        "  plt.title(r'Loss vs. Epochs with K = {}'.format(K))\n",
        "  plt.legend([plot1], ['Training Data'])\n",
        "\n",
        "  print(\"\\n\")\n",
        "  plt.figure(2)\n",
        "  plt.scatter(MU_star[:, 0], MU_star[:, -1])\n",
        "  plt_names = [] #for the legend\n",
        "  for k, value in enumerate(cluster_data):\n",
        "    name = r'plot{}'.format(k)\n",
        "    name = plt.scatter(value[:, 0], value[:, -1], color=np.random.rand(3,))\n",
        "    plt_names.append(name)\n",
        "  percent_string = map(str, percentages)\n",
        "  plt.xlabel(\"x1\")\n",
        "  plt.ylabel(\"x2\")\n",
        "  plt.title(\"Training Data Clustered in K = {} clusters\".format(K))\n",
        "  plt.legend(plt_names, percent_string)"
      ],
      "execution_count": 7,
      "outputs": []
    },
    {
      "cell_type": "code",
      "metadata": {
        "id": "Km_dPadxUCHi"
      },
      "source": [
        "#old stuff\n",
        "#trainData = load_data(is_valid = False, Dnum = 2)\n",
        "#print(trainData)\n",
        "K = 3\n",
        "\n",
        "MU_star, trainLoss = Kmeans_model(trainData, K)\n",
        "\n",
        "cluster_data, percentages = best_cluster(trainData, MU_star, K) #returns list of points in cluster and another list of percentage of training points. index corresponds to the cluster\n",
        "\n",
        "tf_plot(trainLoss, MU_star, cluster_data, percentages, K)"
      ],
      "execution_count": null,
      "outputs": []
    },
    {
      "cell_type": "markdown",
      "metadata": {
        "id": "2QUAWMaqLeqa"
      },
      "source": [
        "starter_gmm.py file\n",
        "\n",
        "Part 2: Mixture of Gaussians"
      ]
    },
    {
      "cell_type": "code",
      "metadata": {
        "id": "bQx8I6JlLbri"
      },
      "source": [
        "import tensorflow as tf\n",
        "import numpy as np\n",
        "import matplotlib.pyplot as plt\n",
        "import helper as hlp\n",
        "\n",
        "# Loading data\n",
        "#data = np.load('data100D.npy')\n",
        "data = np.load('data2D.npy')\n",
        "[num_pts, dim] = np.shape(data)\n",
        "\n",
        "# For Validation set\n",
        "if is_valid:\n",
        "  valid_batch = int(num_pts / 3.0)\n",
        "  np.random.seed(45689)\n",
        "  rnd_idx = np.arange(num_pts)\n",
        "  np.random.shuffle(rnd_idx)\n",
        "  val_data = data[rnd_idx[:valid_batch]]\n",
        "  data = data[rnd_idx[valid_batch:]]\n",
        "\n",
        "# Distance function for GMM\n",
        "def distanceFunc(X, MU):\n",
        "    # Inputs\n",
        "    # X: is an NxD matrix (N observations and D dimensions)\n",
        "    # MU: is an KxD matrix (K means and D dimensions)\n",
        "    # Outputs\n",
        "    # pair_dist: is the pairwise distance matrix (NxK)\n",
        "    # TODO\n",
        "\n",
        "def log_GaussPDF(X, mu, sigma):\n",
        "    # Inputs\n",
        "    # X: N X D\n",
        "    # mu: K X D\n",
        "    # sigma: K X 1\n",
        "\n",
        "    # Outputs:\n",
        "    # log Gaussian PDF N X K\n",
        "\n",
        "    # TODO\n",
        "\n",
        "def log_posterior(log_PDF, log_pi):\n",
        "    # Input\n",
        "    # log_PDF: log Gaussian PDF N X K\n",
        "    # log_pi: K X 1\n",
        "\n",
        "    # Outputs\n",
        "    # log_post: N X K\n",
        "\n",
        "    # TODO"
      ],
      "execution_count": null,
      "outputs": []
    }
  ]
}